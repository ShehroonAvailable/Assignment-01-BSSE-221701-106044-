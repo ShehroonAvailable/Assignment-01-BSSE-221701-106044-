{
  "nbformat": 4,
  "nbformat_minor": 0,
  "metadata": {
    "colab": {
      "provenance": [],
      "authorship_tag": "ABX9TyNGgJ4QTjM1uYuHSKdLJSse",
      "include_colab_link": true
    },
    "kernelspec": {
      "name": "python3",
      "display_name": "Python 3"
    },
    "language_info": {
      "name": "python"
    }
  },
  "cells": [
    {
      "cell_type": "markdown",
      "metadata": {
        "id": "view-in-github",
        "colab_type": "text"
      },
      "source": [
        "<a href=\"https://colab.research.google.com/github/ShehroonAvailable/Assignment-01-BSSE-221701-106044-/blob/main/Untitled3.ipynb\" target=\"_parent\"><img src=\"https://colab.research.google.com/assets/colab-badge.svg\" alt=\"Open In Colab\"/></a>"
      ]
    },
    {
      "cell_type": "code",
      "execution_count": null,
      "metadata": {
        "id": "Mw5dLeTXcbyk"
      },
      "outputs": [],
      "source": [
        "print(\"Hello World!\")\n",
        "input(\"Enter your name: \")\n",
        "print(input)\n",
        "tuple = (1, 2, 3, 4, 5)\n",
        "print(tuple)\n",
        "list = [1, 2, 3, 4, 5]\n",
        "print(list)\n"
      ]
    }
  ]
}